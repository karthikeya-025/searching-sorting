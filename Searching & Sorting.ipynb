{
 "cells": [
  {
   "cell_type": "markdown",
   "id": "b1793e7b",
   "metadata": {},
   "source": [
    "# Binary Search"
   ]
  },
  {
   "cell_type": "code",
   "execution_count": 41,
   "id": "ade1f17c",
   "metadata": {},
   "outputs": [],
   "source": [
    "def binary_search(arr,targ,low=0,high=None):\n",
    "    if high==None:\n",
    "        high = len(arr)-1\n",
    "    \n",
    "    if low>high:\n",
    "        return -1\n",
    "    mid = (low+high)//2\n",
    "    if arr[mid] == targ:\n",
    "        return mid\n",
    "    elif arr[mid] > targ:\n",
    "        return binary_search(arr,targ,high=mid-1)\n",
    "    else:\n",
    "        return binary_search(arr,targ,low=mid+1)"
   ]
  },
  {
   "cell_type": "code",
   "execution_count": 42,
   "id": "c19a2e00",
   "metadata": {},
   "outputs": [
    {
     "data": {
      "text/plain": [
       "2"
      ]
     },
     "execution_count": 42,
     "metadata": {},
     "output_type": "execute_result"
    }
   ],
   "source": [
    "binary_search([1,2,3,4,5,6,7,8,9,10],3)"
   ]
  },
  {
   "cell_type": "markdown",
   "id": "401b307f",
   "metadata": {},
   "source": [
    "# Merge Sort"
   ]
  },
  {
   "cell_type": "code",
   "execution_count": 43,
   "id": "c9a38831",
   "metadata": {},
   "outputs": [],
   "source": [
    "def merge_sort(array):\n",
    "    if len(array) <=1:\n",
    "        return  array\n",
    "    mid = len(array)//2\n",
    "    left = merge_sort(array[:mid])\n",
    "    right = merge_sort(array[mid:])\n",
    "    return merge(left,right)\n",
    "def merge(left,right):\n",
    "    merger = []\n",
    "    i = 0\n",
    "    j=0\n",
    "    while i<len(left) and j<len(right):\n",
    "        if left[i]<=right[j]:\n",
    "            merger.append(left[i])\n",
    "            i += 1\n",
    "        else:\n",
    "            merger.append(right[j])\n",
    "            j+=1\n",
    "    merger += left[i:]\n",
    "    merger += right[j:]\n",
    "    return merger\n",
    "     "
   ]
  },
  {
   "cell_type": "code",
   "execution_count": 44,
   "id": "260078d3",
   "metadata": {},
   "outputs": [
    {
     "data": {
      "text/plain": [
       "[1, 2, 2, 3, 4, 5, 6]"
      ]
     },
     "execution_count": 44,
     "metadata": {},
     "output_type": "execute_result"
    }
   ],
   "source": [
    "merge_sort([2,1,5,6,3,4,2])"
   ]
  },
  {
   "cell_type": "markdown",
   "id": "e352da0c",
   "metadata": {},
   "source": [
    "# Quick Sort"
   ]
  },
  {
   "cell_type": "code",
   "execution_count": 35,
   "id": "ceea18d1",
   "metadata": {},
   "outputs": [],
   "source": [
    "def quick_sort(arr):\n",
    "    if len(arr)<=1:\n",
    "        return arr\n",
    "    pivot = arr[0]\n",
    "    less = []\n",
    "    greater = []\n",
    "    for i in arr[1:]:\n",
    "        if i<=pivot:\n",
    "            less.append(i)\n",
    "        else:\n",
    "            greater.append(i)\n",
    "    return quick_sort(less) + [pivot] + quick_sort(greater)"
   ]
  },
  {
   "cell_type": "code",
   "execution_count": 36,
   "id": "43874fc9",
   "metadata": {},
   "outputs": [
    {
     "data": {
      "text/plain": [
       "[1, 2, 2, 3, 4, 5, 6]"
      ]
     },
     "execution_count": 36,
     "metadata": {},
     "output_type": "execute_result"
    }
   ],
   "source": [
    "quick_sort([2,1,5,6,3,4,2])"
   ]
  },
  {
   "cell_type": "markdown",
   "id": "7500721d",
   "metadata": {},
   "source": [
    "# Insertion Sort"
   ]
  },
  {
   "cell_type": "code",
   "execution_count": 37,
   "id": "4d91d5c1",
   "metadata": {},
   "outputs": [],
   "source": [
    "def insertion_sort(arr):\n",
    "    for i in range(1,len(arr)):\n",
    "        key = arr[i]\n",
    "        j = i-1\n",
    "        while j>=0 and arr[j]>key:\n",
    "            arr[j+1] = arr[j]\n",
    "            j -= 1\n",
    "        arr[j+1] = key\n",
    "        \n",
    "    return arr\n",
    "        "
   ]
  },
  {
   "cell_type": "code",
   "execution_count": 38,
   "id": "db9469de",
   "metadata": {},
   "outputs": [
    {
     "data": {
      "text/plain": [
       "[1, 2, 2, 3, 4, 5, 6]"
      ]
     },
     "execution_count": 38,
     "metadata": {},
     "output_type": "execute_result"
    }
   ],
   "source": [
    "insertion_sort([2,1,5,6,3,4,2])"
   ]
  },
  {
   "cell_type": "markdown",
   "id": "ad32aa9f",
   "metadata": {},
   "source": [
    "# Write a program to sort list of strings (similar to that of dictionary)"
   ]
  },
  {
   "cell_type": "code",
   "execution_count": 39,
   "id": "27c1f633",
   "metadata": {},
   "outputs": [],
   "source": [
    "def string_sort(strings):\n",
    "    sorted_strings = {}\n",
    "    for string in strings:\n",
    "        sorted_strings[string] = string\n",
    "    sorted_strings = sorted(sorted_strings.items(),key = lambda x:x[0])\n",
    "    return [string for string,_ in sorted_strings]"
   ]
  },
  {
   "cell_type": "code",
   "execution_count": 40,
   "id": "be216d22",
   "metadata": {},
   "outputs": [
    {
     "data": {
      "text/plain": [
       "['apple', 'bananas', 'dragonfruit', 'grapes', 'kiwi']"
      ]
     },
     "execution_count": 40,
     "metadata": {},
     "output_type": "execute_result"
    }
   ],
   "source": [
    "string_sort(['apple','grapes','bananas','kiwi','dragonfruit'])"
   ]
  },
  {
   "cell_type": "code",
   "execution_count": null,
   "id": "b04fb849",
   "metadata": {},
   "outputs": [],
   "source": []
  }
 ],
 "metadata": {
  "kernelspec": {
   "display_name": "Python 3 (ipykernel)",
   "language": "python",
   "name": "python3"
  },
  "language_info": {
   "codemirror_mode": {
    "name": "ipython",
    "version": 3
   },
   "file_extension": ".py",
   "mimetype": "text/x-python",
   "name": "python",
   "nbconvert_exporter": "python",
   "pygments_lexer": "ipython3",
   "version": "3.10.9"
  }
 },
 "nbformat": 4,
 "nbformat_minor": 5
}
